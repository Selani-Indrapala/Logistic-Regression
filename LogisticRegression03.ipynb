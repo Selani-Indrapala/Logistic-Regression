{
  "nbformat": 4,
  "nbformat_minor": 0,
  "metadata": {
    "colab": {
      "provenance": [],
      "authorship_tag": "ABX9TyOynb33+Z7Rv5J2rs2k8br3",
      "include_colab_link": true
    },
    "kernelspec": {
      "name": "python3",
      "display_name": "Python 3"
    },
    "language_info": {
      "name": "python"
    }
  },
  "cells": [
    {
      "cell_type": "markdown",
      "metadata": {
        "id": "view-in-github",
        "colab_type": "text"
      },
      "source": [
        "<a href=\"https://colab.research.google.com/github/Selani-Indrapala/Logistic-Regression/blob/main/LogisticRegression03.ipynb\" target=\"_parent\"><img src=\"https://colab.research.google.com/assets/colab-badge.svg\" alt=\"Open In Colab\"/></a>"
      ]
    },
    {
      "cell_type": "code",
      "source": [
        "import numpy as np\n",
        "def sigmoid ( z ) :\n",
        "  return 1 / (1 + np.exp( - z ) )"
      ],
      "metadata": {
        "id": "DGF7sZRecWFd"
      },
      "execution_count": 6,
      "outputs": []
    },
    {
      "cell_type": "code",
      "execution_count": 7,
      "metadata": {
        "id": "NmR817fpAIOr"
      },
      "outputs": [],
      "source": [
        "def predict(x1,x2):\n",
        "  return sigmoid(-6 + 0.05*x1 + 1*x2)"
      ]
    },
    {
      "cell_type": "code",
      "source": [
        "qa_y = predict(40,3.5)\n",
        "print('Probability that a student, who has studied for 40 hours and has an undergraduate GPA of 3.5, will receive an A+ is',qa_y)"
      ],
      "metadata": {
        "colab": {
          "base_uri": "https://localhost:8080/"
        },
        "id": "LrVDWhWIAZWd",
        "outputId": "e73610b6-6072-4995-feff-455843a14017"
      },
      "execution_count": 8,
      "outputs": [
        {
          "output_type": "stream",
          "name": "stdout",
          "text": [
            "Probability that a student, who has studied for 40 hours and has an undergraduate GPA of 3.5, will receive an A+ is 0.3775406687981454\n"
          ]
        }
      ]
    },
    {
      "cell_type": "code",
      "source": [
        "x1 = (- 1*3.5 + 6)/0.05\n",
        "print('To achieve a 50% chance of receiving an A+ in the class a student needs to study',x1,'hours.')"
      ],
      "metadata": {
        "colab": {
          "base_uri": "https://localhost:8080/"
        },
        "id": "UB73KDo-A2sp",
        "outputId": "49973a32-aff4-4d2c-cad3-dcbe9a62da42"
      },
      "execution_count": 9,
      "outputs": [
        {
          "output_type": "stream",
          "name": "stdout",
          "text": [
            "To achieve a 50% chance of receiving an A+ in the class a student needs to study 50.0 hours.\n"
          ]
        }
      ]
    },
    {
      "cell_type": "code",
      "source": [],
      "metadata": {
        "id": "7jdgNe-UCbRR"
      },
      "execution_count": null,
      "outputs": []
    }
  ]
}