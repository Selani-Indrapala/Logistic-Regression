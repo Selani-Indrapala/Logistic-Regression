{
  "nbformat": 4,
  "nbformat_minor": 0,
  "metadata": {
    "colab": {
      "provenance": [],
      "authorship_tag": "ABX9TyPcBf5NjHLcFZIxTxFHPzum",
      "include_colab_link": true
    },
    "kernelspec": {
      "name": "python3",
      "display_name": "Python 3"
    },
    "language_info": {
      "name": "python"
    }
  },
  "cells": [
    {
      "cell_type": "markdown",
      "metadata": {
        "id": "view-in-github",
        "colab_type": "text"
      },
      "source": [
        "<a href=\"https://colab.research.google.com/github/Selani-Indrapala/Logistic-Regression/blob/main/LogisticRegression03.ipynb\" target=\"_parent\"><img src=\"https://colab.research.google.com/assets/colab-badge.svg\" alt=\"Open In Colab\"/></a>"
      ]
    },
    {
      "cell_type": "code",
      "execution_count": 1,
      "metadata": {
        "id": "NmR817fpAIOr"
      },
      "outputs": [],
      "source": [
        "def predict(x1,x2):\n",
        "  return -6 + 0.05*x1 + 1*x2"
      ]
    },
    {
      "cell_type": "code",
      "source": [
        "qa_y = predict(40,3.5)\n",
        "print('Probability that a student, who has studied for 40 hours and has an undergraduate GPA of 3.5, will receive an A+ is',qa_y)"
      ],
      "metadata": {
        "colab": {
          "base_uri": "https://localhost:8080/"
        },
        "id": "LrVDWhWIAZWd",
        "outputId": "81005dbe-5684-4cb4-f863-4d634f310031"
      },
      "execution_count": 4,
      "outputs": [
        {
          "output_type": "stream",
          "name": "stdout",
          "text": [
            "Probability that a student, who has studied for 40 hours and has an undergraduate GPA of 3.5, will receive an A+ is -0.5\n"
          ]
        }
      ]
    },
    {
      "cell_type": "code",
      "source": [
        "x1 = (0.5 - 1*3.5 + 6)/0.05\n",
        "print('To achieve a 50% chance of receiving an A+ in the class a student needs to study',x1,'hours.')"
      ],
      "metadata": {
        "colab": {
          "base_uri": "https://localhost:8080/"
        },
        "id": "UB73KDo-A2sp",
        "outputId": "5d8880f4-5f82-4214-f545-49197be35efa"
      },
      "execution_count": 5,
      "outputs": [
        {
          "output_type": "stream",
          "name": "stdout",
          "text": [
            "To achieve a 50% chance of receiving an A+ in the class a student needs to study 60.0 hours.\n"
          ]
        }
      ]
    },
    {
      "cell_type": "code",
      "source": [],
      "metadata": {
        "id": "7jdgNe-UCbRR"
      },
      "execution_count": null,
      "outputs": []
    }
  ]
}